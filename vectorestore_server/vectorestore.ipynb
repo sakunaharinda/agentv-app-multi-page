{
 "cells": [
  {
   "cell_type": "code",
   "execution_count": 51,
   "id": "54bb569d-4fcd-4523-96d7-cd20d7ccc657",
   "metadata": {},
   "outputs": [
    {
     "data": {
      "text/plain": [
       "1744700599692618681"
      ]
     },
     "execution_count": 51,
     "metadata": {},
     "output_type": "execute_result"
    }
   ],
   "source": [
    "import os\n",
    "os.environ['HF_HOME']='/mnt/huggingface/'\n",
    "os.environ['CUDA_VISIBLE_DEVICES']='0'\n",
    "\n",
    "import chromadb\n",
    "import chromadb.utils.embedding_functions as embedding_functions\n",
    "\n",
    "\n",
    "client = chromadb.HttpClient(host='130.216.216.35', port=8001)\n",
    "chroma_client.heartbeat()"
   ]
  },
  {
   "cell_type": "code",
   "execution_count": 52,
   "id": "3f735718-f785-4502-882d-ddeb60576368",
   "metadata": {},
   "outputs": [],
   "source": [
    "import json\n",
    "\n",
    "def get_entity_list(file_name):\n",
    "    with open(f\"../data/entities/{file_name}\", 'r') as f:\n",
    "\n",
    "        return json.load(f)\n",
    "    "
   ]
  },
  {
   "cell_type": "code",
   "execution_count": 53,
   "id": "c7105277-5a24-49f9-8c7f-fe8e3c746805",
   "metadata": {},
   "outputs": [],
   "source": [
    "stores = {}\n",
    "\n",
    "ent_files = ['subjects.json', 'actions.json', 'resources.json', 'conditions.json']\n",
    "\n",
    "for file in ent_files:\n",
    "    ent_type = file.split('.')[0]\n",
    "    ents = get_entity_list(file)\n",
    "    collection = client.get_or_create_collection(name=f\"{ent_type}\", embedding_function=embedding_functions.HuggingFaceEmbeddingFunction(model_name=\"mixedbread-ai/mxbai-embed-large-v1\", api_key=\"\"), metadata={\"hnsw:space\": \"cosine\"})\n",
    "    collection.add(documents=ents, ids=[f\"id {i+1}\" for i in range(len(ents))])\n",
    "    stores[ent_type] = collection"
   ]
  },
  {
   "cell_type": "code",
   "execution_count": 54,
   "id": "cd9c91e8-7273-4661-a9af-04b58123e2b9",
   "metadata": {},
   "outputs": [
    {
     "data": {
      "text/plain": [
       "[Collection(name=resource),\n",
       " Collection(name=conditions),\n",
       " Collection(name=subjects),\n",
       " Collection(name=subject),\n",
       " Collection(name=condition),\n",
       " Collection(name=action),\n",
       " Collection(name=actions),\n",
       " Collection(name=resources)]"
      ]
     },
     "execution_count": 54,
     "metadata": {},
     "output_type": "execute_result"
    }
   ],
   "source": [
    "client.list_collections()"
   ]
  },
  {
   "cell_type": "code",
   "execution_count": 58,
   "id": "96af7198-31e4-49ef-ad57-87b9962dc6bc",
   "metadata": {},
   "outputs": [
    {
     "data": {
      "text/plain": [
       "{'ids': [['id 1']],\n",
       " 'distances': [[0.041035295]],\n",
       " 'embeddings': None,\n",
       " 'metadatas': [[None]],\n",
       " 'documents': [['medical record']],\n",
       " 'uris': None,\n",
       " 'data': None,\n",
       " 'included': ['metadatas', 'documents', 'distances']}"
      ]
     },
     "execution_count": 58,
     "metadata": {},
     "output_type": "execute_result"
    }
   ],
   "source": [
    "stores['resources'].query(query_texts='medical records',n_results=1)"
   ]
  },
  {
   "cell_type": "code",
   "execution_count": 41,
   "id": "a995b4d1-b650-40a9-9852-c5f60905719e",
   "metadata": {},
   "outputs": [],
   "source": [
    "import numpy as np\n",
    "\n",
    "def get_entities(query, collection, k = 3, return_scores = True):\n",
    "    res = collection.query(query_texts=query,n_results=k)\n",
    "    dists = res['distances'][0]\n",
    "    scores = 1 - np.array(dists)\n",
    "    if return_scores:\n",
    "        return res['documents'][0], scores.tolist()\n",
    "    return res['documents'][0]\n",
    "        "
   ]
  },
  {
   "cell_type": "code",
   "execution_count": 43,
   "id": "2b15ef4f-1dae-481f-919d-b2159a4da054",
   "metadata": {},
   "outputs": [
    {
     "data": {
      "text/plain": [
       "(['hcp'], [0.99999982118607])"
      ]
     },
     "execution_count": 43,
     "metadata": {},
     "output_type": "execute_result"
    }
   ],
   "source": [
    "get_entities('hcp', stores['subjects'], k=1)"
   ]
  },
  {
   "cell_type": "code",
   "execution_count": null,
   "id": "13713d5a-2965-43c8-9e59-b38ea9865002",
   "metadata": {},
   "outputs": [],
   "source": []
  },
  {
   "cell_type": "code",
   "execution_count": null,
   "id": "4631810c-c848-4046-adba-1db70f54b0ee",
   "metadata": {},
   "outputs": [],
   "source": []
  },
  {
   "cell_type": "code",
   "execution_count": 32,
   "id": "e7fd4b73-231e-4d05-90a2-07825f76e1a1",
   "metadata": {},
   "outputs": [],
   "source": [
    "client.delete_collection('subjects')\n",
    "client.delete_collection('actions')\n",
    "client.delete_collection('resources')\n",
    "client.delete_collection('conditions')"
   ]
  },
  {
   "cell_type": "code",
   "execution_count": 50,
   "id": "c47445f3-110f-47db-9554-75e5eb7eea8d",
   "metadata": {},
   "outputs": [
    {
     "data": {
      "text/plain": [
       "False"
      ]
     },
     "execution_count": 50,
     "metadata": {},
     "output_type": "execute_result"
    }
   ],
   "source": [
    "os.getenv('HF_HOMEE', False)"
   ]
  },
  {
   "cell_type": "code",
   "execution_count": null,
   "id": "959a62a3-c1fd-4366-ad54-8d0bfd0accde",
   "metadata": {},
   "outputs": [],
   "source": []
  },
  {
   "cell_type": "code",
   "execution_count": null,
   "id": "ca8df168-17a5-46a8-a3f1-2fd4213c4f60",
   "metadata": {},
   "outputs": [],
   "source": []
  },
  {
   "cell_type": "code",
   "execution_count": null,
   "id": "54c5079f-dfc6-4c6c-a577-5f6ec81401cd",
   "metadata": {},
   "outputs": [],
   "source": []
  },
  {
   "cell_type": "code",
   "execution_count": 1,
   "id": "1c4c102f-236e-489e-8909-ff09fa8cb7c5",
   "metadata": {},
   "outputs": [],
   "source": [
    "from dataclasses import dataclass\n",
    "\n",
    "@dataclass\n",
    "class Object():\n",
    "\n",
    "    id: str = \"1\"\n",
    "    name: str = \"\"\n",
    "    edited: bool = False"
   ]
  },
  {
   "cell_type": "code",
   "execution_count": 3,
   "id": "20c00951-3307-4422-b511-056a78a89058",
   "metadata": {},
   "outputs": [],
   "source": [
    "l = [\n",
    "    Object(\"1\", \"n1\"),\n",
    "    Object(\"2\", \"n2\"),\n",
    "    Object(\"3\", \"n3\")\n",
    "]\n",
    "\n",
    "lc = [obj for obj in l]"
   ]
  },
  {
   "cell_type": "code",
   "execution_count": 4,
   "id": "614b1c3b-36e2-449d-b369-389f6ad18592",
   "metadata": {},
   "outputs": [],
   "source": [
    "for o in lc:\n",
    "    if o.id == \"2\":\n",
    "        o.edited = True"
   ]
  },
  {
   "cell_type": "code",
   "execution_count": 5,
   "id": "7247ed02-c510-440e-9813-3de7c357e7fa",
   "metadata": {},
   "outputs": [
    {
     "data": {
      "text/plain": [
       "[Object(id='1', name='n1', edited=False),\n",
       " Object(id='2', name='n2', edited=True),\n",
       " Object(id='3', name='n3', edited=False)]"
      ]
     },
     "execution_count": 5,
     "metadata": {},
     "output_type": "execute_result"
    }
   ],
   "source": [
    "l"
   ]
  },
  {
   "cell_type": "code",
   "execution_count": null,
   "id": "9b559ca7-c566-4c28-b312-c78181074260",
   "metadata": {},
   "outputs": [],
   "source": []
  }
 ],
 "metadata": {
  "kernelspec": {
   "display_name": "Python 3 (ipykernel)",
   "language": "python",
   "name": "python3"
  },
  "language_info": {
   "codemirror_mode": {
    "name": "ipython",
    "version": 3
   },
   "file_extension": ".py",
   "mimetype": "text/x-python",
   "name": "python",
   "nbconvert_exporter": "python",
   "pygments_lexer": "ipython3",
   "version": "3.10.12"
  }
 },
 "nbformat": 4,
 "nbformat_minor": 5
}
